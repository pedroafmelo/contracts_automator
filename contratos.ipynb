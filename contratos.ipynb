{
 "cells": [
  {
   "cell_type": "markdown",
   "metadata": {},
   "source": [
    "# Criando automação de criação de contratos"
   ]
  },
  {
   "cell_type": "code",
   "execution_count": 1,
   "metadata": {},
   "outputs": [],
   "source": [
    "# Instalar o python-docx primeiro"
   ]
  },
  {
   "cell_type": "code",
   "execution_count": 3,
   "metadata": {},
   "outputs": [],
   "source": [
    "from docx import Document\n",
    "from pdf2docx import Converter"
   ]
  },
  {
   "cell_type": "markdown",
   "metadata": {},
   "source": [
    "## Primeiramente, transformando arquivos word em pdf"
   ]
  },
  {
   "cell_type": "code",
   "execution_count": 4,
   "metadata": {},
   "outputs": [
    {
     "name": "stderr",
     "output_type": "stream",
     "text": [
      "[INFO] Start to convert Contrato de Gestão de Carteira Administrada Internacional - Gilnar Paiva e Rodrigo atualizad - Clicksign.pdf\n",
      "[INFO] \u001b[1;36m[1/4] Opening document...\u001b[0m\n",
      "[INFO] \u001b[1;36m[2/4] Analyzing document...\u001b[0m\n",
      "[INFO] \u001b[1;36m[3/4] Parsing pages...\u001b[0m\n",
      "[INFO] (1/13) Page 1\n",
      "[INFO] (2/13) Page 2\n",
      "[INFO] (3/13) Page 3\n",
      "[INFO] (4/13) Page 4\n",
      "[INFO] (5/13) Page 5\n",
      "[INFO] (6/13) Page 6\n",
      "[INFO] (7/13) Page 7\n",
      "[INFO] (8/13) Page 8\n",
      "[INFO] (9/13) Page 9\n",
      "[INFO] (10/13) Page 10\n",
      "[INFO] (11/13) Page 11\n",
      "[INFO] (12/13) Page 12\n",
      "[INFO] (13/13) Page 13\n",
      "[INFO] \u001b[1;36m[4/4] Creating pages...\u001b[0m\n",
      "[INFO] (1/13) Page 1\n",
      "[INFO] (2/13) Page 2\n",
      "[INFO] (3/13) Page 3\n",
      "[INFO] (4/13) Page 4\n",
      "[INFO] (5/13) Page 5\n",
      "[INFO] (6/13) Page 6\n",
      "[INFO] (7/13) Page 7\n",
      "[INFO] (8/13) Page 8\n",
      "[INFO] (9/13) Page 9\n",
      "[INFO] (10/13) Page 10\n",
      "[INFO] (11/13) Page 11\n",
      "[INFO] (12/13) Page 12\n",
      "[INFO] (13/13) Page 13\n",
      "[INFO] Terminated in 1.56s.\n"
     ]
    },
    {
     "name": "stdout",
     "output_type": "stream",
     "text": [
      "done\n"
     ]
    }
   ],
   "source": [
    "pdf = \"Contrato de Gestão de Carteira Administrada Internacional - Gilnar Paiva e Rodrigo atualizad - Clicksign.pdf\"\n",
    "docx = \"contrato_gestao_adm_int.docx\"\n",
    "\n",
    "converter = Converter(pdf)\n",
    "converter.convert(docx)\n",
    "converter.close\n",
    "print(\"done\")"
   ]
  },
  {
   "cell_type": "code",
   "execution_count": 21,
   "metadata": {},
   "outputs": [],
   "source": [
    "documento = Document(\"contrato_gestao_adm_int.docx\")\n",
    "\n",
    "for pg in documento.paragraphs:\n",
    "    pg.text = pg.text.replace(\"SILVA p \", \"SILVA\")\n",
    "\n",
    "documento.save(\"Novo Contrato.docx\")"
   ]
  },
  {
   "cell_type": "code",
   "execution_count": 22,
   "metadata": {},
   "outputs": [
    {
     "name": "stdout",
     "output_type": "stream",
     "text": [
      "\n",
      "\n",
      "CONTRATO DE GESTÃO DE CARTEIRA\n",
      "ADMINISTRADA \n",
      "CONTRATANTE \n",
      "GILNAR PAIVA DE AUTRAN NUNES, brasileira, viúva, portador da Cédula de Identidade RG de nº 140031 ITEP RN, e do CPF nº 096.220.474-91, residente e domiciliado na Av. Campos Sales, 501 Apto., 2701, Petrópolis, Natal – RN, sob o CEP 590.200-55, contato de e-mail gilnardentista@hotmail.com e RODRIGO PAIVA DE AUTRAN NUNES, brasileiro, solteiro, portador do CPF nº 837.450.334-34, residente e domiciliado na Av. Campos Sales, 501 Apto., 2701, Petrópolis, Natal – RN, sob o CEP 590.200-55, contato de e-mail autran@icloud.com. \n",
      "CONTRATADA \n",
      "PLENO GESTÃO DE INVESTIMENTOS E CONSULTORIA LTDA, constituída legalmente por contrato social devidamente arquivado na Junta Comercial do Estado da Paraíba, sob NIRE nº 25200869010, com sede na cidade de João Pessoa, capital do Estado da Paraíba, com endereço social na Rua Antônio Rabelo Júnior, número 161, sala 2311, Miramar - João Pessoa/PB - CEP 58032-090, devidamente inscrita no Cadastro Nacional de Pessoa Jurídica/MF sob o nº 33.804.015/0001-61, nesta oportunidade representada por MATHEUS FELIPE MARINHO DA SILVA, brasileiro, solteiro, portador da Cédula de Identidade RG nº 002.427.151 (SSP/RN), Carteira Nacional de Habilitação (CNH) n° 06175594124 – Detran/RN e inscrito no CPF/MF sob o nº 111.466.954-70, residente e domiciliado na Cidade de Recife, Estado do Pernambuco, na Rua Jornalista Trajano Chacon, n° 205, apto. 208, Ilha do Leite, CEP: 50070-410, e WÓLNEY DIAS DE MEDEIROS FERNANDES, brasileiro, solteiro, empresário, portador da cédula de identidade RG de nº 2514519-2ª via SSDS e do CPF, 066.937.644-28, residente e domiciliado na Rua Giácomo Porto, nº 99, apto 302, bairro Miramar, João Pessoa, PB, sob o CEP 58032-110; \n",
      "CONSIDERANDO que o CONTRATANTE deseja aplicar seus recursos em uma carteira de títulos, valores mobiliários e ativos financeiros; \n",
      "CONSIDERANDO que a CONTRATADA é empresa autorizada pela Comissão de Valores Mobiliários – CVM para prestar serviços de administração de carteira de valores mobiliários, na categoria gestor de recursos, consoante o artigo 23, da Lei n. 6.385, de 7.12.1976, a Resolução CVM n. 21, de 25 de abril de 2021 e alterações posteriores; \n",
      "CONSIDERANDO que o CONTRATANTE tem interesse que a CONTRATADA administre seus recursos e/ou ativos financeiros; \n",
      "Esta página integra o Contrato de Gestão de Patrimônio da Pleno Gestão de Investimentos e Consultoria Ltda.        1 de 11 \n",
      "Clicksign71ac8458-ba25-4304-b6cf-d785c27ee24c\n",
      "\n",
      "\n",
      "\n",
      "CONSIDERANDO que a CONTRATADA aceita prestar o serviço de administração de carteira de valores mobiliários, na modalidade gestor de recursos. \n",
      "CONSIDERANDO que a CONTRATADA, além deste serviço, também presta os serviços de consultoria em valores mobiliários, consultoria empresarial, consultoria em crédito, avaliação de empresas, consultoria em sucessão, e mais uma gama de serviços não ligados diretamente ao mercado de valores mobiliários. \n",
      "Pelo presente instrumento e na melhor forma de direito, as partes resolvem celebrar o presente Contrato de Gestão de Patrimônio, que se regerá pelas seguintes disposições. \n",
      "CLÁUSULA PRIMEIRA – DOOBJETO \n",
      "O objeto deste contrato é a prestação, pela CONTRATADA, do serviço de administração de uma carteira de recursos, títulos, valores mobiliários e outros ativos financeiros e demais modalidades operacionais existentes no âmbito do mercado financeiro e de capitais detidos pelo CONTRATANTE e que venham a ser resultantes de investimentos realizados em nome do CONTRATANTE e seus respectivos rendimentos (“CARTEIRA”). \n",
      "Parágrafo primeiro: O CONTRATANTE autoriza a CONTRATADA a realizar operações com títulos de renda fixa soberanos e privados, quotas de fundos de investimento e valores mobiliários negociados em bolsas de valores, em mercados de balcão e qualquer outra bolsa ou mercado do mundo em que o CONTRATANTE possua carteira de investimento e não seja vedada a operação da CONTRATADA. \n",
      "Parágrafo segundo: O CONTRATANTE também autoriza a realização de operações de empréstimo de ações, tanto na qualidade de doador, como de tomador. \n",
      "Parágrafo terceiro: A CONTRATADA dedica-se às atividades de gestão de recursos de terceiros, de modo que administrará a CARTEIRA do CONTRATANTE ao mesmo tempo que administra carteiras de diversos outros clientes. Nesse sentido, poderá haver casos em que sejam executadas operações para o CONTRATANTE ao mesmo tempo em que são executadas operações inversas para outros clientes, em virtude de política de investimento diversa ou da situação da carteira de cada cliente. \n",
      "Parágrafo quarto: O CONTRATANTE, inclusive, torna-se ciente da possibilidade de tornar-se contraparte de outros clientes ou mesmo de fundos geridos pela CONTRATADA. \n",
      "Parágrafo quinto: O Contrato terá vigência por prazo indeterminado, podendo ser rescindido por qualquer das partes mediante aviso prévio de 15 (quinze) dias. \n",
      "Esta página integra o Contrato de Gestão de Patrimônio da Pleno Gestão de Investimentos e Consultoria Ltda.        2 de 11 \n",
      "Clicksign71ac8458-ba25-4304-b6cf-d785c27ee24c\n",
      "\n",
      "\n",
      "\n",
      "qualquer natureza apresentam riscos com diferentes dimensões, os quais podem ser enquadrados, de forma exemplificativa, dentre os abaixo: \n",
      "1) Riscos Gerais:  A CARTEIRA está sujeita às variações e condições dos mercados de ações, especialmente dos mercados de câmbio, juros, bolsa e derivativos, que são afetados principalmente pelas condições políticas e econômicas nacionais e internacionais. \n",
      "2) Risco de Mercado: Consiste no risco de variação no valor dos ativos da CARTEIRA. O valor dos títulos e valores mobiliários pode aumentar ou diminuir, de acordo com as flutuações de preços e cotações de mercado, as taxas de juros e os resultados das empresas emissoras. A queda dos preços dos ativos integrantes da CARTEIRA pode ser temporária, não existindo, no entanto, garantia de que não se estendam por períodos longos e/ou indeterminados. Em determinados momentos de mercado, a volatilidade dos preços dos ativos e dos derivativos pode ser elevada, podendo acarretar oscilações bruscas no resultado da CARTEIRA. \n",
      "3) Risco de Crédito: Consiste no risco de os emissores de títulos/valores mobiliários de renda fixa que integram a carteira não cumprirem suas obrigações de pagar tanto o principal como os respectivos juros de suas dívidas. Adicionalmente, os contratos de derivativos estão eventualmente sujeitos ao risco da contraparte ou instituição garantidora não honrar sua liquidação. \n",
      "4) Risco de Liquidez: O risco de liquidez caracteriza-se pela baixa ou mesmo falta de demanda pelos títulos e valores mobiliários integrantes da CARTEIRA. Neste caso, a CONTRATADA pode não estar apta a efetuar pagamentos relativos a resgates, quando solicitados pelo CONTRATANTE. Este cenário pode se dar em função da falta de liquidez dos mercados nos quais os valores mobiliários integrantes da CARTEIRA são negociados ou de outras condições atípicas de mercado. \n",
      "5) Risco de Concentração de Títulos e Valores Mobiliários de um mesmo emissor: A possibilidade de concentração da CARTEIRA em títulos e valores mobiliários de um mesmo emissor representa risco de liquidez dos ativos. Alterações da condição financeira de uma companhia ou de um grupo de companhias, alterações na expectativa de desempenho/resultados das companhias e da capacidade competitiva do setor investido podem, isolada ou cumulativamente, afetar adversamente o preço e/ou rendimento dos ativos da CARTEIRA. Nestes casos, a CONTRATADA pode ser obrigada a liquidar os \n",
      "Esta página integra o Contrato de Gestão de Patrimônio da Pleno Gestão de Investimentos e Consultoria Ltda.        3 de 11 \n",
      "Clicksign71ac8458-ba25-4304-b6cf-d785c27ee24c\n",
      "\n",
      "\n",
      "\n",
      "ativos da CARTEIRA a preços depreciados podendo, com isso, influenciar negativamente o valor da CARTEIRA. \n",
      "6) Risco Decorrente do Uso de Derivativos: A utilização de derivativos pode ocasionar aumento da volatilidade da CARTEIRA, limitar as possibilidades de retornos nas suas operações, não produzir os efeitos pretendidos, bem como provocar perdas ao CONTRATANTE. Mesmo que a CONTRATADA utilize derivativos apenas com objetivo de proteção da CARTEIRA, existe o risco das posições não representarem um “hedge” perfeito ou suficiente para evitar perdas ao CONTRATANTE. \n",
      "7) Risco de Câmbio: A exposição a investimentos internacionais adiciona o risco de variação de taxa de câmbio, o que pode ocasionar desvalorização da carteira administrada, quando avaliada em moeda corrente nacional, inclusive podendo o ser em momentos em que o resultado nominativo é positivo no mercado onde os recursos estão sendo administrados. \n",
      "Parágrafoprimeiro: O CONTRATANTE declara, ainda, que a política de investimentos, documento anexo, por meio do qual a CONTRATADA tomará conhecimento do perfil do CONTRATANTE, é adequada ao seu perfil de investidor e compatível com sua situação financeira. \n",
      "Parágrafo segundo: O CONTRATANTE declara-se ciente de que a CONTRATADA não garante a rentabilidade da CARTEIRA ou mesmo a preservação do seu valor, as quais dependerão, dentre outros fatores, das condições de mercado, da taxa câmbial e dos rendimentos atribuídos pelos emissores dos títulos e valores que compõem a CARTEIRA. \n",
      "CLÁUSULA TERCEIRA – DO MANDATO\n",
      "O CONTRATANTE, neste ato, nomeia e constitui a CONTRATADA como sua procuradora para praticar todos os atos necessários à execução das operações relacionadas à administração de sua carteira de investimentos, investindo-a, para tanto, de poderes para: \n",
      "a) adquirir, alienar, ceder e transferir títulos e valores mobiliários; \n",
      "b) operar derivativos e futuros, inclusive opções e termo; \n",
      "c) exercer, negociar ou renunciar direitos de subscrição de ativos; \n",
      "d) resgatar títulos ou depósitos; \n",
      "e) receber dividendos, juros sobre capital, bonificações e demais rendimentos atribuídos à CARTEIRA; \n",
      "Esta página integra o Contrato de Gestão de Patrimônio da Pleno Gestão de Investimentos e Consultoria Ltda.        4 de 11 \n",
      "Clicksign71ac8458-ba25-4304-b6cf-d785c27ee24c\n",
      "\n",
      "\n",
      "\n",
      "f) solicitar a conversão ou desdobramento de títulos financeiros; \n",
      "Parágrafo primeiro: Deverá a CONTRATADA reaplicar todo e qualquer rendimento proporcionado pela CARTEIRA, que passará, automática e independentemente de qualquer outra formalidade, a integrar a CARTEIRA. \n",
      "CLÁUSULA QUARTA – VEDAÇÕES À CONTRATADA\n",
      "É vedado à CONTRATADA: \n",
      "a. Prestar fiança, aval, aceite ou coobrigar-se sob qualquer outra forma em relação aos ativos administrados; \n",
      "b. Realizar quaisquer promessas quantificadas quanto ao retorno futuro da CARTEIRA e; c. Negociar com os valores mobiliários das carteiras que administre com a finalidade de gerar receitas de corretagem ou de rebate para si ou para terceiros. \n",
      "CLÁUSULA QUINTA – DA REMUNERAÇÃO \n",
      "Em contraprestação aos serviços descritos neste instrumento, o CONTRATANTE pagará à CONTRATADA, até o dia 05 (cinco) do mês subsequente ao mês de referência, taxa de gestão de 0,80% a.a. (zero virgula oitenta por centoao ano) sobre o valor do Patrimônio Líquido da CARTEIRA que esteja sob gestão direta da CONTRATADA, apurado pro rata die. Ainda, ao fechamento de cada ano civil, ou quando do encerramento deste contrato, será devida uma taxa sobre a performance, a ser paga em até 5 dias úteis. Esta taxa é calculada como o retorno bruto da CARTEIRA que exceder o Effective Fed Funds Rate acumulado no período, ou o que vier a substituí-lo, descontada a taxa de gestão. A Taxa de Performance devida à CONTRATADA constitui 20% (Vinte por cento) desse resultado (“PERFORMANCE”), caso positivo. \n",
      "Parágrafo primeiro: O CONTRATANTE autoriza que a CONTRATADA realize a cobrança direta das taxas de gestão e performance, caso a instituição parceira da CONTRATADA realize a operacionalização do processo. \n",
      "Parágrafo segundo: Além do preço do serviço, o CONTRATANTE arcará com os seguintes encargos: \n",
      "Esta página integra o Contrato de Gestão de Patrimônio da Pleno Gestão de Investimentos e Consultoria Ltda.        5 de 11 \n",
      "Clicksign71ac8458-ba25-4304-b6cf-d785c27ee24c\n",
      "\n",
      "\n",
      "\n",
      "a. Os emolumentos, taxas e comissões devidas sobre as operações de compra e venda de títulos e valores mobiliários que compuserem a CARTEIRA; \n",
      "b. Qualquer serviço adicional que venha a ser vinculado à carteira, para benefício do CONTRATANTE, como por exemplo o serviço de gestão tributária; e \n",
      "c. Todo e qualquer tributo e/ou contribuição fiscal que recaiam sobre o resultado das operações da CARTEIRA, sendo de responsabilidade exclusiva do CONTRATANTE a apuração do resultado e o recolhimento do imposto, se cabível, seja no Brasil ou no exterior. \n",
      "Parágrafo terceiro: Toda e qualquer remuneração que, independentemente da intenção do CONTRATANTE ou da CONTRATADA, venha a ser destinada à CONTRATADA devido a operação envolvendo a CARTEIRA gerida, seja oriunda de fundo, plataforma, corretora ou qualquer outra, que, por qualquer razão, não possa ser paga diretamente à conta do CONTRATANTE, será integralmente repassada a este, de modo que a CONTRATADA não venha a auferir nenhum ganho por operação dessa natureza, em nome da manutenção do alinhamento de interesses entre as partes, de forma que os ganhos advindos da CARTEIRA gerida sejam o objetivo principal para ambas. \n",
      "CLÁUSULA SEXTA – AUTORIZAÇÕES E RECONHECIMENTOS\n",
      "Ante as parcerias existentes entre a CONTRATADA e instituições financeiras, o CONTRATANTE autoriza que a CONTRATADA o represente perante as referidas instituições na abertura de conta de investimento. \n",
      "Parágrafo primeiro: Autoriza o CONTRATANTE, caso a instituição parceira da CONTRATADA realize a operacionalização do processo, que seja realizada a cobrança direta das taxas de gestão acordadas neste contrato em sua conta de investimento, sendo desnecessária a emissão de ordem de pagamento específica a ser paga pelo CONTRATANTE mensalmente. \n",
      "Parágrafo segundo: A cobrança descrita no item anterior se dará na conta do CONTRATANTE junto à instituição parceira que esteja sob gestão da CONTRATADA. \n",
      "CLÁUSULA SÉTIMA – DO SIGILO DE INFORMAÇÕES \n",
      "Esta página integra o Contrato de Gestão de Patrimônio da Pleno Gestão de Investimentos e Consultoria Ltda.        6 de 11 \n",
      "Clicksign71ac8458-ba25-4304-b6cf-d785c27ee24c\n",
      "\n",
      "\n",
      "\n",
      "A CONTRATADA se compromete a manter total sigilo de toda e qualquer informação não pública a que tiver acesso em decorrência dos serviços a serem prestados ao CONTRATANTE objeto deste CONTRATO, em relação à CARTEIRA e em relação ao CONTRATANTE, nos limites da legislação em vigor, salvo nas hipóteses em que o CONTRATANTE expressamente autorizar a CONTRATADA a divulgar os dados da CARTEIRA a terceiros. \n",
      "Parágrafo primeiro: Em decorrência da natureza do presente contrato e do acesso à informações sensíveis relativas do CONTRATANTE, fica a parte CONTRATADA, e eventualmente seus prepostos e empregados, obrigada a não divulgar, revelar, reproduzir, utilizar ou dar conhecimento a terceiros estranhos a esta contratação e à operação do objeto deste contrato, mantendo sob o mais absoluto sigilo todas as informações de caráter sigiloso e confidencial a que vierem a ter ciência ou acesso, ou que lhes seja confiada durante a vigência deste contrato, e pelo prazo de vigência deste e por 1 (um) ano contados da sua extinção. \n",
      "\tCLÁUSULA OITAVA – DA LEGISLAÇÃO APLICÁVEL\n",
      "Aplicam-se, ainda, a este contrato, as leis, normas e resoluções do Banco Central do Brasil, da CVM - Comissão de Valores Mobiliários e da B3 S.A. – Brasil, Bolsa e Balcão. \n",
      "Parágrafo primeiro: Nos casos em que a norma que regula o mercado de capitais seja omissa, deverá ser aplicada a legislação pátria comum (Código Civil e leis ordinárias). \n",
      "Parágrafo segundo: Sem prejuízo de outros recursos, todas as obrigações constantes neste documento são passíveis de execução específica, nos termos do Código de Processo Civil pátrio. \n",
      "\tCLÁUSULA NONA – DO DESCUMPRIMENTO DE OBRIGAÇÕES \n",
      "Toda e qualquer tolerância quanto ao descumprimento, por qualquer das Partes, das condições estabelecidas no presente Instrumento, será exceção que não significará novação ou alteração das disposições pactuadas, mas tão somente liberalidade. \n",
      "Parágrafo primeiro: A invalidade parcial deste Instrumento não o afetará na parte considerada válida, desde que as obrigações sejam desmembráveis entre si. \n",
      "Parágrafo segundo: As Partes desde já se comprometem a negociar, no menor prazo possível, em substituição à cláusula invalidada, a inclusão de termos e condições válidos que reflitam os termos e condições da cláusula invalidada, observada a intenção e o objetivo das Partes quando da negociação da cláusula invalidada e o contexto em que se inserem. \n",
      "Parágrafo terceiro: as controvérsias originadas com o presente contrato serão submetidas a Mediação, e, em caso de insucesso desta, Arbitragem, preferencialmente em Câmara de Conciliação, Mediação e Arbitragem criada para tal fim. \n",
      "Esta página integra o Contrato de Gestão de Patrimônio da Pleno Gestão de Investimentos e Consultoria Ltda.        7 de 11 \n",
      "Clicksign71ac8458-ba25-4304-b6cf-d785c27ee24c\n",
      "\n",
      "\n",
      "\n",
      "CLÁUSULA DÉCIMA– DISPOSIÇÕES GERAIS\n",
      "Parágrafo primeiro: Não são de responsabilidade da CONTRATADA as atividades contábeis, atuariais e fiscais do CONTRATANTE, inclusive no que se refere à apuração e o recolhimento dos impostos incidentes sobre as operações realizadas no âmbito da atividade de administração de carteira. Entretanto, a CONTRATADA é responsável por repassar ao CONTRATANTE todas as informações necessárias para tal fim, em tempo hábil. \n",
      "Parágrafo segundo: A parte CONTRATADA obriga-se a fornecer ao CONTRATANTE mensalmente, ou sempre que solicitado, relatório sobre o desempenho da CARTEIRA; \n",
      "Parágrafo terceiro: A parte CONTRATADA obriga-se a empregar, no exercício de sua atividade, os princípios da boa técnica administrativa e de investimentos e o cuidado e a diligência que costuma dispensar na administração de seus próprios negócios. \n",
      "Parágrafo quarto: O CONTRATANTE poderá solicitar, com antecedência mínima de 30 (trinta) dias, a liquidação parcial ou total de sua carteira, ressalvando à CONTRATADA a possibilidade de existirem operações cuja liquidação no referido prazo impeça o resultado objetivado. \n",
      "Parágrafo quinto: A CONTRATADA pode requerer informações do CONTRATANTE a fim de manter um cadastro interno, segundo o disposto em sua “Política de conheça o seu cliente e PLDFT”, disponibilizada ao público no endereço eletrônico: http://pleno.finance. \n",
      "Parágrafo sexto: O CONTRATANTE deve informar quando houver alguma alteração nas informações solicitadas para o cadastro descrito na cláusula acima, especialmente caso venha a ser considerada como pessoa politicamente exposta (PEP), isto é, ocupante de cargo e/ou função pública listada nas normas de PLD/FTP editadas pelos órgãos reguladores e fiscalizadores. \n",
      "Parágrafo sétimo: O CONTRATANTE autoriza a CONTRATADA a verificar sua situação nos serviços de proteção ao crédito (ex: SPC e Serasa). \n",
      "Parágrafo oitavo: As partes acordam que toda e qualquer disputa relativa, relacionada ou decorrente, direta ou indiretamente, do presente instrumento, incluindo, mas não se limitando à sua formação, interpretação, execução ou validade, bem como a determinação e liquidação de danos, obrigações ou responsabilidades de qualquer natureza, ainda que extracontratuais, serão resolvidas de modo definitivo por Sentença Arbitral, a ser proferida em procedimento administrado pelo CAM-PB – Centro de Arbitragem e Mediação da Paraíba, nos moldes do seu Regulamento. O número de árbitros será 1. O idioma oficial do procedimento e da sentença será o português brasileiro. A sede do procedimento arbitral será João Pessoa, aplicando-se ao mérito do litígio a lei material brasileira. Caso não seja possível a recepção da disputa por parte do CAM-\n",
      "Esta página integra o Contrato de Gestão de Patrimônio da Pleno Gestão de Investimentos e Consultoria Ltda.        8 de 11 \n",
      "Clicksign71ac8458-ba25-4304-b6cf-d785c27ee24c\n",
      "\n",
      "\n",
      "\n",
      "PB, será acionada outra câmara de mediação localizada no município de João Pessoa, ou ainda, exclusivamente caso nenhuma outra câmara em João Pessoa possa receber a disputa, o Centro de Arbitragem e Mediação da Câmara de Comércio Brasil-Canadá (“CAM-CCBC”). Para as questões insuscetíveis de arbitragem, bem como para as medidas judiciais relativas à arbitragem, elegem as partes o foro de João Pessoa, Paraíba, com renúncia expressa a qualquer outro, por mais privilegiado que seja ou possa vir a ser. \n",
      "E por estarem assim justas e contratadas, assinam o presente eletronicamente. \n",
      "João Pessoa – PB, 05 de fevereiro de 2025. \n",
      " ____________________________________ \n",
      "GILNAR PAIVA DE AUTRAN NUNES \n",
      "____________________________________ \n",
      "RODRIGO PAIVA DE AUTRAN NUNES \n",
      " ____________________________________ \n",
      "MATHEUS FELIPE MARINHO DA SILVA \n",
      "Diretor da Pleno Gestão de Investimentos e Consultoria Ltda. \n",
      "____________________________________ \n",
      "WÓLNEY DIAS DE MEDEIROS FERNANDES \n",
      "Diretor da Pleno Gestão de Investimentos e Consultoria Ltda. \n",
      "Esta página integra o Contrato de Gestão de Patrimônio da Pleno Gestão de Investimentos e Consultoria Ltda.        9 de 11 \n",
      "Clicksign71ac8458-ba25-4304-b6cf-d785c27ee24c\n",
      "\n",
      "\n",
      "\n",
      "AUTORIZAÇÕES RELACIONADAS A COMUNICABILIDADE DE DADOS À EMPRESAS PARCEIRAS \n",
      "Considerando o interesse do cliente em realizar investimentos alternativos, e o fato de possuirmos parceria com empresas que atuam na área, o cliente se faz ciente e concorda integralmente com os seguintes pontos: \n",
      "1) A CONTRATANTE entende por bem ampliar os termos da Cláusula Terceira (“Cláusula Mandato”) do contrato principal do qual este anexo faz parte, autorizando a CONTRATADA a repassar informações que detém por necessidade de manutenção de cadastro à empresas que detenham acesso à plataformas que lidem com  investimento alternativos, tais como private equity, investimento coletivo e até emissão de títulos bancários, regulamentadas pelo Banco Central e Comissão de Valores Mobiliários, com a CONTRATADA assumindo a responsabilidade na comunicação com as mesmas, a partir de então sendo tratadas individualmente como “Plataforma Parceira”. \n",
      "2) As informações específicas a serem passadas integram rol que deve ser informado à CONTRATADA a fim de cumprimento de exigência legal imposta a esta pelos entes reguladores de mercado, ou seja, não há requisição de dado exclusivo para esse fim que fosse extrapolar conjunto de dados exigidos por lei. \n",
      "3) A CONTRATADA possui termo de confidencialidade em contrato vigente com a Plataforma Parceira à qual será repassada a informação, e esta última se responsabiliza por vazamento das informações referidas no item anterior no que tange suas ações nos termos presentes no contrato da Plataforma Parceira junto ao CONTRATANTE, considerando que os dados que terá acesso se restringem aos mesmos dados que requer de qualquer outro que venha a contratá-la, e o uso que fará dos mesmos, também se restringindo aos mesmos limites. \n",
      "4) Uma vez repassadas as informações, a Plataforma Parceira irá realizar a abertura de conta automaticamente, permitindo acesso dos serviços à CONTRATADA, para viabilizar a avaliação dos investimentos possíveis na plataforma, sempre atentando à política de investimento do CONTRATANTE. \n",
      "5) A abertura inclui a aceitação de termos específicos da plataforma, com categorização do tipo de investidor, de acordo com políticas internas da Plataforma Parceira e exigências da CVM. \n",
      "Esta página integra o Contrato de Gestão de Patrimônio da Pleno Gestão de Investimentos e Consultoria Ltda.        10 de 11 \n",
      "Clicksign71ac8458-ba25-4304-b6cf-d785c27ee24c\n",
      "\n",
      "\n",
      "\n",
      "6) A CONTRATADA, no intuito de manutenção do alinhamento de interesses, garante, desde já, o repasse de toda e qualquer quantia recebida pela Plataforma Parceira, em forma a ser discutida com o CONTRATANTE em cada oportunidade que ocorra recebimento dessa natureza. \n",
      "7) A abertura de conta implica no fornecimento de acesso, que será garantido ao CONTRATANTE, com provimento de todos os dados e contratos ligados à Plataforma Parceira, através de acesso em site específico, cujo login e senha de acesso lhe serão igualmente fornecidos, possibilitando acesso sem a necessidade de chancela alguma por parte da CONTRATADA, inclusive com a possibilidade de fechamento da conta a qualquer momento por parte do CONTRATANTE, caso esse deseje, independentemente de contato com a CONTRATADA. \n",
      "8) O intuito das permissões que o CONTRATANTE concede à CONTRATADA é simplesmente acelerar o processo de investimento e remover a necessidade de que este fique contatando as empresas repetidamente, permitindo que a CONTRATADA, detentora de mandato que lhe permite realizar a gestão discricionária de carteira de investimentos, possa exercer seu encargo, decidindo sobre investimentos a serem realizados em nome do CONTRATANTE, respeitando os limites presentes em sua política de investimento. \n",
      "\tEstando de acordo com os termos acima, assinam eletronicamente o presente anexo, fazendo-o integrar o Contrato de Gestão de Patrimônio. \n",
      "João Pessoa – PB, 05 de fevereiro de 2025. \n",
      "____________________________________ \n",
      "GILNAR PAIVA DE AUTRAN NUNES \n",
      "____________________________________ \n",
      "RODRIGO PAIVA DE AUTRAN NUNES \n",
      "__________________________________ \n",
      "MATHEUS FELIPE MARINHO DA SILVA\n",
      "Diretor da Pleno Gestão de Investimentos e Consultoria Ltda. \n",
      "____________________________________ \n",
      "WÓLNEY DIAS DE MEDEIROS FERNANDES \n",
      "Diretor da Pleno Gestão de Investimentos e Consultoria Ltda.\n",
      "Esta página integra o Contrato de Gestão de Patrimônio da Pleno Gestão de Investimentos e Consultoria Ltda.        11 de 11 \n",
      "Clicksign71ac8458-ba25-4304-b6cf-d785c27ee24c\n",
      "\n",
      "\n",
      "\n",
      "\n",
      "\n",
      "Datas e horários em GMT  -03:00 Brasilia Log gerado em 10 de fevereiro de 2025. Versão v1.42.0.\n",
      "\n",
      "Contrato de Gestão de Carteira Administrada Internacional - Gilnar Paiva e Rodrigo atualizad.pdf \n",
      "Documento número #71ac8458-ba25-4304-b6cf-d785c27ee24c \n",
      "Hash do documento original (SHA256): d5ad619252a2212dfeca63a2de44d1640cc7d98e496fdd9fac87887e391ef1a2\n",
      "Assinaturas\n",
      "\tGILNAR PAIVA DE AUTRAN NUNES \n",
      "\tCPF: 096.220.474-91\n",
      "Assinou em 06 fev 2025 às 09:49:58\n",
      "\tRODRIGO PAIVA DE AUTRAN NUNES \n",
      "\tCPF: 837.450.334-34\n",
      "Assinou em 06 fev 2025 às 10:38:00\n",
      "\tWólney Dias de Medeiros Fernandes \n",
      "\tCPF: 066.937.644-28\n",
      "Assinou em 10 fev 2025 às 11:16:00\n",
      "\tMATHEUS FELIPE MARINHO DA SILVA \n",
      "\tCPF: 111.466.954-70\n",
      "Assinou em 05 fev 2025 às 17:03:56\n",
      "Log\n",
      "05 fev 2025, 16:29:23 \tOperador com email samara.guimaraes@pleno.finance na Conta 190d4a0a-dc90-4f9a-85de-\tbe645bc59a2d criou este documento número 71ac8458-ba25-4304-b6cf-d785c27ee24c. Data \tlimite para assinatura do documento: 07 de março de 2025 (16:29). Finalização automática após \ta última assinatura: habilitada. Idioma: Português brasileiro.\n",
      "05 fev 2025, 16:32:12 \tOperador com email samara.guimaraes@pleno.finance na Conta 190d4a0a-dc90-4f9a-85de-\tbe645bc59a2d adicionou à Lista de Assinatura: \n",
      "\tgilnardentista@hotmail.com para assinar, via E-mail. \n",
      "Pontos de autenticação: Token via E-mail; Nome Completo; CPF; endereço de IP. Dados informados pelo Operador para validação do signatário: nome completo GILNAR PAIVA DE AUTRAN NUNES.\n",
      "\n",
      "\n",
      "\n",
      "\n",
      "\n",
      "\n",
      "Datas e horários em GMT  -03:00 Brasilia Log gerado em 10 de fevereiro de 2025. Versão v1.42.0.\n",
      "\n",
      "be645bc59a2d adicionou à Lista de Assinatura: \n",
      "wolney@pleno.finance para assinar, via E-mail. \n",
      "Pontos de autenticação: Token via E-mail; Nome Completo; CPF; endereço de IP. Dados informados pelo Operador para validação do signatário: nome completo WÓLNEY DIAS DE MEDEIROS FERNANDES e CPF 066.937.644-28.\n",
      "05 fev 2025, 16:32:12 \tOperador com email samara.guimaraes@pleno.finance na Conta 190d4a0a-dc90-4f9a-85de-\tbe645bc59a2d adicionou à Lista de Assinatura: \n",
      "\tmatheus.marinho@pleno.finance para assinar, via E-mail. \n",
      "Pontos de autenticação: Token via E-mail; Nome Completo; CPF; endereço de IP. Dados informados pelo Operador para validação do signatário: nome completo MATHEUS FELIPE MARINHO DA SILVA e CPF 111.466.954-70.\n",
      "05 fev 2025, 16:32:12 \tOperador com email samara.guimaraes@pleno.finance na Conta 190d4a0a-dc90-4f9a-85de-\tbe645bc59a2d adicionou à Lista de Assinatura: \n",
      "\tautran@icloud.com para assinar, via E-mail. \n",
      "Pontos de autenticação: Token via E-mail; Nome Completo; CPF; endereço de IP. Dados informados pelo Operador para validação do signatário: nome completo RODRIGO PAIVA DE AUTRAN NUNES e CPF 837.450.334-34.\n",
      "05 fev 2025, 17:03:56 \tMATHEUS FELIPE MARINHO DA SILVA assinou. Pontos de autenticação: Token via E-mail \tmatheus.marinho@pleno.finance. CPF informado: 111.466.954-70. IP: 191.179.116.76. \tComponente de assinatura versão 1.1116.0 disponibilizado em https://app.clicksign.com.\n",
      "06 fev 2025, 09:49:58 \tGILNAR PAIVA DE AUTRAN NUNES assinou. Pontos de autenticação: Token via E-mail \tgilnardentista@hotmail.com. CPF informado: 096.220.474-91. IP: 177.89.182.76. Componente de \tassinatura versão 1.1116.0 disponibilizado em https://app.clicksign.com.\n",
      "06 fev 2025, 10:38:00 \tRODRIGO PAIVA DE AUTRAN NUNES assinou. Pontos de autenticação: Token via E-mail \tautran@icloud.com. CPF informado: 837.450.334-34. IP: 177.89.182.76. Localização \tcompartilhada pelo dispositivo eletrônico: latitude -5.793576833309539 e longitude\t-35.19815904585914. URL para abrir a localização no mapa:.\n",
      "Componente de assinatura versão 1.1116.0 disponibilizado em https://app.clicksign.com.\n",
      "10 fev 2025, 11:16:00 \tWólney Dias de Medeiros Fernandes assinou. Pontos de autenticação: Token via E-mail \twolney@pleno.finance. CPF informado: 066.937.644-28. IP: 168.0.235.214. Componente de \tassinatura versão 1.1118.0 disponibilizado em https://app.clicksign.com.\n",
      "10 fev 2025, 11:16:01 \tProcesso de assinatura finalizado automaticamente. Motivo: finalização automática após a\túltima assinatura habilitada. Processo de assinatura concluído para o documento número \t71ac8458-ba25-4304-b6cf-d785c27ee24c.\n",
      "Este Log é exclusivo e deve ser considerado parte do documento nº 71ac8458-ba25-4304-b6cf-d785c27ee24c, com os efeitos prescritos nos Termos de Uso da Clicksign, disponível em www.clicksign.com.\n",
      "\n"
     ]
    }
   ],
   "source": [
    "documento = Document(\"Novo Contrato.docx\")\n",
    "\n",
    "for pg in documento.paragraphs:\n",
    "    print(pg.text)"
   ]
  },
  {
   "cell_type": "code",
   "execution_count": 2,
   "metadata": {},
   "outputs": [
    {
     "name": "stderr",
     "output_type": "stream",
     "text": [
      "/Users/pedroafmelo/Documents/pleno_finance/automacoes_processos/mc_venv/lib/python3.12/site-packages/tqdm/auto.py:21: TqdmWarning: IProgress not found. Please update jupyter and ipywidgets. See https://ipywidgets.readthedocs.io/en/stable/user_install.html\n",
      "  from .autonotebook import tqdm as notebook_tqdm\n"
     ]
    }
   ],
   "source": [
    "from docx2pdf import convert"
   ]
  },
  {
   "cell_type": "code",
   "execution_count": 3,
   "metadata": {},
   "outputs": [
    {
     "name": "stderr",
     "output_type": "stream",
     "text": [
      "  0%|          | 0/1 [00:00<?, ?it/s]"
     ]
    },
    {
     "name": "stderr",
     "output_type": "stream",
     "text": [
      "100%|██████████| 1/1 [00:13<00:00, 13.53s/it]\n"
     ]
    }
   ],
   "source": [
    "convert(input_path=\"Novo Contrato.docx\", output_path=\"contrato_pdf.pdf\")"
   ]
  },
  {
   "cell_type": "code",
   "execution_count": 1,
   "metadata": {},
   "outputs": [
    {
     "ename": "Error",
     "evalue": "unsupported locale setting",
     "output_type": "error",
     "traceback": [
      "\u001b[0;31m---------------------------------------------------------------------------\u001b[0m",
      "\u001b[0;31mError\u001b[0m                                     Traceback (most recent call last)",
      "Cell \u001b[0;32mIn[1], line 5\u001b[0m\n\u001b[1;32m      2\u001b[0m \u001b[38;5;28;01mimport\u001b[39;00m\u001b[38;5;250m \u001b[39m\u001b[38;5;21;01mlocale\u001b[39;00m\n\u001b[1;32m      4\u001b[0m \u001b[38;5;66;03m# Define o locale para português do Brasil\u001b[39;00m\n\u001b[0;32m----> 5\u001b[0m \u001b[43mlocale\u001b[49m\u001b[38;5;241;43m.\u001b[39;49m\u001b[43msetlocale\u001b[49m\u001b[43m(\u001b[49m\u001b[43mlocale\u001b[49m\u001b[38;5;241;43m.\u001b[39;49m\u001b[43mLC_TIME\u001b[49m\u001b[43m,\u001b[49m\u001b[43m \u001b[49m\u001b[38;5;124;43m\"\u001b[39;49m\u001b[38;5;124;43mpt_BR.utf8\u001b[39;49m\u001b[38;5;124;43m\"\u001b[39;49m\u001b[43m)\u001b[49m\n\u001b[1;32m      7\u001b[0m \u001b[38;5;66;03m# Obtém o nome do mês atual\u001b[39;00m\n\u001b[1;32m      8\u001b[0m mes_atual \u001b[38;5;241m=\u001b[39m datetime\u001b[38;5;241m.\u001b[39mdatetime\u001b[38;5;241m.\u001b[39mnow()\u001b[38;5;241m.\u001b[39mstrftime(\u001b[38;5;124m\"\u001b[39m\u001b[38;5;124m%\u001b[39m\u001b[38;5;124mB\u001b[39m\u001b[38;5;124m\"\u001b[39m)\n",
      "File \u001b[0;32m/Library/Frameworks/Python.framework/Versions/3.12/lib/python3.12/locale.py:613\u001b[0m, in \u001b[0;36msetlocale\u001b[0;34m(category, locale)\u001b[0m\n\u001b[1;32m    610\u001b[0m \u001b[38;5;28;01mif\u001b[39;00m locale \u001b[38;5;129;01mand\u001b[39;00m \u001b[38;5;129;01mnot\u001b[39;00m \u001b[38;5;28misinstance\u001b[39m(locale, _builtin_str):\n\u001b[1;32m    611\u001b[0m     \u001b[38;5;66;03m# convert to string\u001b[39;00m\n\u001b[1;32m    612\u001b[0m     locale \u001b[38;5;241m=\u001b[39m normalize(_build_localename(locale))\n\u001b[0;32m--> 613\u001b[0m \u001b[38;5;28;01mreturn\u001b[39;00m \u001b[43m_setlocale\u001b[49m\u001b[43m(\u001b[49m\u001b[43mcategory\u001b[49m\u001b[43m,\u001b[49m\u001b[43m \u001b[49m\u001b[43mlocale\u001b[49m\u001b[43m)\u001b[49m\n",
      "\u001b[0;31mError\u001b[0m: unsupported locale setting"
     ]
    }
   ],
   "source": [
    "import datetime\n",
    "import locale\n",
    "\n",
    "# Define o locale para português do Brasil\n",
    "locale.setlocale(locale.LC_TIME, \"pt_BR.utf8\")\n",
    "\n",
    "# Obtém o nome do mês atual\n",
    "mes_atual = datetime.datetime.now().strftime(\"%B\")\n",
    "\n",
    "print(mes_atual)  # Exemplo de saída: \"fevereiro\"\n"
   ]
  },
  {
   "cell_type": "code",
   "execution_count": 3,
   "metadata": {},
   "outputs": [
    {
     "name": "stdout",
     "output_type": "stream",
     "text": [
      "\u001b[1m Olá!\u001b[0m\n",
      "Olá!\n"
     ]
    }
   ],
   "source": [
    "print(\"\\033[1m Olá!\\033[0m\")\n",
    "print(\"Olá!\")"
   ]
  },
  {
   "cell_type": "code",
   "execution_count": 9,
   "metadata": {},
   "outputs": [
    {
     "name": "stdout",
     "output_type": "stream",
     "text": [
      "zsh:1: /Users/pedroafmelo/Documents/pleno_finance/automacoes_processos/contratos/mc_venv/bin/pip: bad interpreter: /Users/pedroafmelo/Documents/pleno_finance/automacoes_processos/mc_venv/bin/python3.12: no such file or directory\n",
      "Requirement already satisfied: num2words in /Library/Frameworks/Python.framework/Versions/3.12/lib/python3.12/site-packages (0.5.14)\n",
      "Requirement already satisfied: docopt>=0.6.2 in /Library/Frameworks/Python.framework/Versions/3.12/lib/python3.12/site-packages (from num2words) (0.6.2)\n"
     ]
    }
   ],
   "source": [
    "!pip install num2words\n"
   ]
  },
  {
   "cell_type": "code",
   "execution_count": 5,
   "metadata": {},
   "outputs": [
    {
     "ename": "ModuleNotFoundError",
     "evalue": "No module named 'num2words'",
     "output_type": "error",
     "traceback": [
      "\u001b[0;31m---------------------------------------------------------------------------\u001b[0m",
      "\u001b[0;31mModuleNotFoundError\u001b[0m                       Traceback (most recent call last)",
      "Cell \u001b[0;32mIn[5], line 1\u001b[0m\n\u001b[0;32m----> 1\u001b[0m \u001b[38;5;28;01mfrom\u001b[39;00m\u001b[38;5;250m \u001b[39m\u001b[38;5;21;01mnum2words\u001b[39;00m\u001b[38;5;250m \u001b[39m\u001b[38;5;28;01mimport\u001b[39;00m num2words\n\u001b[1;32m      3\u001b[0m \u001b[38;5;28;01mdef\u001b[39;00m\u001b[38;5;250m \u001b[39m\u001b[38;5;21mconverter_porcentagem\u001b[39m(texto):\n\u001b[1;32m      4\u001b[0m     \u001b[38;5;66;03m# Removendo o símbolo de porcentagem e substituindo vírgula por ponto\u001b[39;00m\n\u001b[1;32m      5\u001b[0m     numero \u001b[38;5;241m=\u001b[39m texto\u001b[38;5;241m.\u001b[39mreplace(\u001b[38;5;124m'\u001b[39m\u001b[38;5;124m%\u001b[39m\u001b[38;5;124m'\u001b[39m, \u001b[38;5;124m'\u001b[39m\u001b[38;5;124m'\u001b[39m)\u001b[38;5;241m.\u001b[39mreplace(\u001b[38;5;124m'\u001b[39m\u001b[38;5;124m,\u001b[39m\u001b[38;5;124m'\u001b[39m, \u001b[38;5;124m'\u001b[39m\u001b[38;5;124m.\u001b[39m\u001b[38;5;124m'\u001b[39m)\n",
      "\u001b[0;31mModuleNotFoundError\u001b[0m: No module named 'num2words'"
     ]
    }
   ],
   "source": [
    "from num2words import num2words\n",
    "\n",
    "def converter_porcentagem(texto):\n",
    "    # Removendo o símbolo de porcentagem e substituindo vírgula por ponto\n",
    "    numero = texto.replace('%', '').replace(',', '.')\n",
    "    \n",
    "    # Convertendo para float\n",
    "    valor = float(numero)\n",
    "    \n",
    "    # Convertendo para forma escrita\n",
    "    texto_escrito = num2words(valor, lang='pt_BR').replace('ponto', 'vírgula')\n",
    "    \n",
    "    return f\"{texto_escrito} por cento\"\n",
    "\n",
    "# Exemplo de uso:\n",
    "texto = \"0,8%\"\n",
    "print(converter_porcentagem(texto))"
   ]
  },
  {
   "cell_type": "code",
   "execution_count": 3,
   "metadata": {},
   "outputs": [
    {
     "ename": "ModuleNotFoundError",
     "evalue": "No module named 'num2words'",
     "output_type": "error",
     "traceback": [
      "\u001b[0;31m---------------------------------------------------------------------------\u001b[0m",
      "\u001b[0;31mModuleNotFoundError\u001b[0m                       Traceback (most recent call last)",
      "Cell \u001b[0;32mIn[3], line 1\u001b[0m\n\u001b[0;32m----> 1\u001b[0m \u001b[38;5;28;01mfrom\u001b[39;00m\u001b[38;5;250m \u001b[39m\u001b[38;5;21;01mnum2words\u001b[39;00m\u001b[38;5;250m \u001b[39m\u001b[38;5;28;01mimport\u001b[39;00m num2words\n",
      "\u001b[0;31mModuleNotFoundError\u001b[0m: No module named 'num2words'"
     ]
    }
   ],
   "source": [
    "from num2words import num2words"
   ]
  },
  {
   "cell_type": "code",
   "execution_count": null,
   "metadata": {},
   "outputs": [],
   "source": []
  }
 ],
 "metadata": {
  "kernelspec": {
   "display_name": "mc_venv",
   "language": "python",
   "name": "python3"
  },
  "language_info": {
   "codemirror_mode": {
    "name": "ipython",
    "version": 3
   },
   "file_extension": ".py",
   "mimetype": "text/x-python",
   "name": "python",
   "nbconvert_exporter": "python",
   "pygments_lexer": "ipython3",
   "version": "3.12.0"
  }
 },
 "nbformat": 4,
 "nbformat_minor": 2
}
